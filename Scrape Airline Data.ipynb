{
 "metadata": {
  "name": "",
  "signature": "sha256:d10dda3c0d3fa829df4dec31cf17ac4cf08e18f458342b9ecd8307f5d4cbe44c"
 },
 "nbformat": 3,
 "nbformat_minor": 0,
 "worksheets": [
  {
   "cells": [
    {
     "cell_type": "code",
     "collapsed": false,
     "input": [
      "import requests\n",
      "from bs4 import BeautifulSoup\n",
      "import re\n",
      "import math\n",
      "from datetime import datetime"
     ],
     "language": "python",
     "metadata": {},
     "outputs": [],
     "prompt_number": 7
    },
    {
     "cell_type": "code",
     "collapsed": false,
     "input": [
      "url = 'http://aviation-safety.net/database/dblist.php'"
     ],
     "language": "python",
     "metadata": {},
     "outputs": [],
     "prompt_number": 2
    },
    {
     "cell_type": "code",
     "collapsed": false,
     "input": [
      "def extract_data(soup):\n",
      "    rows = []\n",
      "    table = soup.find('table')\n",
      "    for row in table.findAll('tr'):\n",
      "        if not len(row) > 16:\n",
      "            cells = row.findAll('td')\n",
      "            try:\n",
      "                inc_date = datetime.strptime(cells[0].text, '%d-%b-%Y')\n",
      "            except ValueError:\n",
      "                continue            \n",
      "            if '+' in cells[4].text:\n",
      "                val = cells[4].text.split('+')\n",
      "                val = sum([int(i) for i in val])\n",
      "            else:\n",
      "                val = cells[4].text\n",
      "            data = [inc_date.strftime('%d-%m-%Y'),\n",
      "                    cells[1].text.strip(),\n",
      "                    cells[2].text.strip(),\n",
      "                    cells[3].text.replace(',',''),\n",
      "                    str(val),\n",
      "                    cells[8].text.strip()]\n",
      "            rows.append(data)\n",
      "    return rows"
     ],
     "language": "python",
     "metadata": {},
     "outputs": [],
     "prompt_number": 30
    },
    {
     "cell_type": "code",
     "collapsed": false,
     "input": [
      "def write_to_file(fl, data):\n",
      "    for line in data:\n",
      "        fl.write('%s\\n' % ','.join(line).encode(encoding='UTF-8',errors='ignore'))\n",
      "        fl.flush()"
     ],
     "language": "python",
     "metadata": {},
     "outputs": [],
     "prompt_number": 28
    },
    {
     "cell_type": "code",
     "collapsed": false,
     "input": [
      "# 1919 - 2015\n",
      "# 1995 - 2015\n",
      "for year in range(1995, 2015):\n",
      "    data_file = open('data/airline/%s.csv' % year, 'w')\n",
      "    payload = {'Year' : year}\n",
      "    r = requests.get(url, params=payload)\n",
      "    soup = BeautifulSoup(r.text)\n",
      "    records = re.search('[0-9]*.', soup.find('span', 'caption').text).group()\n",
      "    pages = math.ceil(int(records)/100)\n",
      "    data = extract_data(soup)\n",
      "    write_to_file(data_file, data)\n",
      "    for page in range(2, int(pages) + 1):\n",
      "        payload = {'Year' : year, 'page': page}\n",
      "        r = requests.get(url, params=payload)\n",
      "        soup = BeautifulSoup(r.text)\n",
      "        data = extract_data(soup)\n",
      "        write_to_file(data_file, data)\n",
      "    data_file.close()"
     ],
     "language": "python",
     "metadata": {},
     "outputs": [],
     "prompt_number": 31
    }
   ],
   "metadata": {}
  }
 ]
}