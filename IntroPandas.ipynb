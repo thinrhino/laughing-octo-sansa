{
 "metadata": {
  "name": "",
  "signature": "sha256:c1e34f8cef69d48e0a5e9972b3a9648db3da28940962c77dbf36bc1944e5ee71"
 },
 "nbformat": 3,
 "nbformat_minor": 0,
 "worksheets": [
  {
   "cells": [
    {
     "cell_type": "code",
     "collapsed": false,
     "input": [
      "import pandas as pd\n",
      "import numpy as np\n",
      "import matplotlib.pyplot as plt\n",
      "pd.set_option('max_columns', 50)"
     ],
     "language": "python",
     "metadata": {},
     "outputs": []
    },
    {
     "cell_type": "markdown",
     "metadata": {},
     "source": [
      "# Data Structures\n",
      "pandas introduces two new data structures to Python - **Series** and **DataFrame**, both of which are *built on top of NumPy* (this means it's fast)."
     ]
    },
    {
     "cell_type": "markdown",
     "metadata": {},
     "source": [
      "## Series\n",
      "\n",
      "###### A Series is a one-dimensional object similar to an array, list, or column in a table. It will assign a labeled index to each item in the Series. By default, each item will receive an index label from 0 to N, where N is the length of the Series minus one."
     ]
    },
    {
     "cell_type": "code",
     "collapsed": false,
     "input": [
      "# create a Series with an arbitrary list\n",
      "s = pd.Series([7, 'Pi', 3.14, -3233432, 'Happy Learning!'])\n",
      "s"
     ],
     "language": "python",
     "metadata": {},
     "outputs": []
    },
    {
     "cell_type": "markdown",
     "metadata": {},
     "source": [
      "###### Alternatively, you can specify an index to use when creating the Series."
     ]
    },
    {
     "cell_type": "code",
     "collapsed": false,
     "input": [
      "s = pd.Series([7, 'Pi', 3.14, -3233432, 'Happy Learning!'],\n",
      "              index=['A', 'Z', 'C', 'Y', 'E'])\n",
      "s"
     ],
     "language": "python",
     "metadata": {},
     "outputs": []
    },
    {
     "cell_type": "markdown",
     "metadata": {},
     "source": [
      "###### The Series constructor can convert a dictonary as well, using the keys of the dictionary as its index."
     ]
    },
    {
     "cell_type": "code",
     "collapsed": false,
     "input": [
      "d = {'Pagri': 4600, 'Tanggulashan': 4587, 'Ukdungle': 4659, 'Colquechaca': 4692,\n",
      "     'Hunza Khunjerab Pass': 4693, 'El Aguilar': 4895, 'Wenquan': 5019, 'La Rinconada': 5099}\n",
      "cities = pd.Series(d)\n",
      "cities"
     ],
     "language": "python",
     "metadata": {},
     "outputs": []
    },
    {
     "cell_type": "markdown",
     "metadata": {},
     "source": [
      "###### You can use the index to select specific items from the Series ..."
     ]
    },
    {
     "cell_type": "code",
     "collapsed": false,
     "input": [
      "cities['Pagri']"
     ],
     "language": "python",
     "metadata": {},
     "outputs": []
    },
    {
     "cell_type": "code",
     "collapsed": false,
     "input": [
      "cities[['Pagri', 'Colquechaca', 'Wenquan']]"
     ],
     "language": "python",
     "metadata": {},
     "outputs": []
    },
    {
     "cell_type": "markdown",
     "metadata": {},
     "source": [
      "###### Or you can use boolean indexing for selection."
     ]
    },
    {
     "cell_type": "code",
     "collapsed": false,
     "input": [
      "cities[cities > 4900]"
     ],
     "language": "python",
     "metadata": {},
     "outputs": []
    },
    {
     "cell_type": "code",
     "collapsed": false,
     "input": [
      "greater_than_4900 = cities > 4900\n",
      "\n",
      "print greater_than_4900\n",
      "print '\\n'\n",
      "print cities[greater_than_4900]"
     ],
     "language": "python",
     "metadata": {},
     "outputs": []
    },
    {
     "cell_type": "markdown",
     "metadata": {},
     "source": [
      "###### You can also change the values in a Series on the fly."
     ]
    },
    {
     "cell_type": "code",
     "collapsed": false,
     "input": [
      "# changing based on the index\n",
      "print 'Old value:', cities['Pagri']\n",
      "cities['Pagri'] = 4990\n",
      "print 'New value:', cities['Pagri']"
     ],
     "language": "python",
     "metadata": {},
     "outputs": []
    },
    {
     "cell_type": "code",
     "collapsed": false,
     "input": [
      "# changing values using boolean logic\n",
      "print cities[cities < 4900]\n",
      "print '\\n'\n",
      "cities[cities < 4900] = 4890\n",
      "\n",
      "print cities[cities < 4900]"
     ],
     "language": "python",
     "metadata": {},
     "outputs": []
    },
    {
     "cell_type": "markdown",
     "metadata": {},
     "source": [
      "###### What if you aren't sure whether an item is in the Series? You can check using idiomatic Python.#"
     ]
    },
    {
     "cell_type": "code",
     "collapsed": false,
     "input": [
      "print 'Wenquan' in cities\n",
      "print 'Pune' in cities"
     ],
     "language": "python",
     "metadata": {},
     "outputs": []
    },
    {
     "cell_type": "markdown",
     "metadata": {},
     "source": [
      "###### Mathematical operations can be done using scalars and functions."
     ]
    },
    {
     "cell_type": "code",
     "collapsed": false,
     "input": [
      "# divide city values by 3\n",
      "cities / 3"
     ],
     "language": "python",
     "metadata": {},
     "outputs": []
    },
    {
     "cell_type": "code",
     "collapsed": false,
     "input": [
      "# square city values\n",
      "np.square(cities)"
     ],
     "language": "python",
     "metadata": {},
     "outputs": []
    },
    {
     "cell_type": "code",
     "collapsed": false,
     "input": [
      "print cities[['Pagri', 'Colquechaca', 'Wenquan']]\n",
      "print '\\n'\n",
      "print cities[['Pagri', 'Ukdungle', 'Tanggulashan']]\n",
      "print '\\n'\n",
      "print cities[['Pagri', 'Colquechaca', 'Wenquan']] + cities[['Pagri', 'Ukdungle', 'Tanggulashan']] "
     ],
     "language": "python",
     "metadata": {},
     "outputs": []
    },
    {
     "cell_type": "code",
     "collapsed": false,
     "input": [
      "cities['Pagri'] = np.nan"
     ],
     "language": "python",
     "metadata": {},
     "outputs": []
    },
    {
     "cell_type": "code",
     "collapsed": false,
     "input": [
      "cities"
     ],
     "language": "python",
     "metadata": {},
     "outputs": []
    },
    {
     "cell_type": "code",
     "collapsed": false,
     "input": [
      "cities.notnull()"
     ],
     "language": "python",
     "metadata": {},
     "outputs": []
    },
    {
     "cell_type": "code",
     "collapsed": false,
     "input": [
      "cities.isnull()"
     ],
     "language": "python",
     "metadata": {},
     "outputs": []
    },
    {
     "cell_type": "code",
     "collapsed": false,
     "input": [
      "print cities[cities.isnull()]"
     ],
     "language": "python",
     "metadata": {},
     "outputs": []
    },
    {
     "cell_type": "markdown",
     "metadata": {},
     "source": [
      "## DataFrame\n",
      "\n",
      "###### A DataFrame is a tablular data structure comprised of rows and columns, akin to a spreadsheet, database table, or R's data.frame object. You can also think of a DataFrame as a group of Series objects that share an index (the column names)."
     ]
    },
    {
     "cell_type": "code",
     "collapsed": false,
     "input": [
      "data = {'year': [2010, 2011, 2012, 2011, 2012, 2010, 2011, 2012],\n",
      "        'team': ['Bears', 'Bears', 'Bears', 'Packers', 'Packers', 'Lions', 'Lions', 'Lions'],\n",
      "        'wins': [11, 8, 10, 15, 11, 6, 10, 4],\n",
      "        'losses': [5, 8, 6, 1, 5, 10, 6, 12]}\n",
      "football = pd.DataFrame(data, columns=['year', 'team', 'wins', 'losses'])\n",
      "print football"
     ],
     "language": "python",
     "metadata": {},
     "outputs": []
    },
    {
     "cell_type": "code",
     "collapsed": false,
     "input": [
      "! head -n 5 /Users/aditya/Desktop/MIT/data/body.csv"
     ],
     "language": "python",
     "metadata": {},
     "outputs": []
    },
    {
     "cell_type": "code",
     "collapsed": false,
     "input": [
      "frm_csv = pd.read_csv('data/body.csv')\n",
      "print frm_csv.head(n=5)"
     ],
     "language": "python",
     "metadata": {},
     "outputs": []
    },
    {
     "cell_type": "code",
     "collapsed": false,
     "input": [
      "colnames = ['Date', 'Weight', 'BMI', 'Fat' , 'BP', 'RHR' ,'DS']\n",
      "\n",
      "frm_csv = pd.read_csv('data/body.csv',\n",
      "                      na_values=[0, '0/0'],\n",
      "                      sep=',',\n",
      "                      parse_dates=[0], \n",
      "                      header = 0,\n",
      "                      names=colnames)\n",
      "\n",
      "print frm_csv.head(n=10)"
     ],
     "language": "python",
     "metadata": {},
     "outputs": []
    },
    {
     "cell_type": "code",
     "collapsed": false,
     "input": [
      "print frm_csv.describe()"
     ],
     "language": "python",
     "metadata": {},
     "outputs": []
    },
    {
     "cell_type": "code",
     "collapsed": false,
     "input": [
      "print frm_csv.dtypes"
     ],
     "language": "python",
     "metadata": {},
     "outputs": []
    },
    {
     "cell_type": "code",
     "collapsed": false,
     "input": [
      "print frm_csv.tail()"
     ],
     "language": "python",
     "metadata": {},
     "outputs": []
    },
    {
     "cell_type": "code",
     "collapsed": false,
     "input": [
      "print frm_csv[10:15]"
     ],
     "language": "python",
     "metadata": {},
     "outputs": []
    },
    {
     "cell_type": "markdown",
     "metadata": {},
     "source": [
      "### Selection"
     ]
    },
    {
     "cell_type": "code",
     "collapsed": false,
     "input": [
      "frm_csv['Weight'].head()"
     ],
     "language": "python",
     "metadata": {},
     "outputs": []
    },
    {
     "cell_type": "code",
     "collapsed": false,
     "input": [
      "frm_csv[['Date', 'Weight']].head()"
     ],
     "language": "python",
     "metadata": {},
     "outputs": []
    },
    {
     "cell_type": "code",
     "collapsed": false,
     "input": [
      "frm_csv[frm_csv.Weight > 65].head()"
     ],
     "language": "python",
     "metadata": {},
     "outputs": []
    },
    {
     "cell_type": "code",
     "collapsed": false,
     "input": [
      "condition = frm_csv.Weight > 65\n",
      "print condition[:5]"
     ],
     "language": "python",
     "metadata": {},
     "outputs": []
    },
    {
     "cell_type": "code",
     "collapsed": false,
     "input": [
      "frm_csv.Date[frm_csv.Weight > 65].head()"
     ],
     "language": "python",
     "metadata": {},
     "outputs": []
    }
   ],
   "metadata": {}
  }
 ]
}